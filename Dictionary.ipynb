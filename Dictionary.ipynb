{
 "cells": [
  {
   "cell_type": "code",
   "execution_count": 51,
   "id": "2e77b409-9659-468f-be81-8c14ecc0815c",
   "metadata": {},
   "outputs": [],
   "source": [
    "d={} "
   ]
  },
  {
   "cell_type": "code",
   "execution_count": 52,
   "id": "58d3849e-1e88-4492-9aab-59b4dd08dd77",
   "metadata": {},
   "outputs": [
    {
     "data": {
      "text/plain": [
       "{}"
      ]
     },
     "execution_count": 52,
     "metadata": {},
     "output_type": "execute_result"
    }
   ],
   "source": [
    "d"
   ]
  },
  {
   "cell_type": "code",
   "execution_count": 53,
   "id": "a79e2408-a74a-4045-8164-8265dae14dd2",
   "metadata": {},
   "outputs": [
    {
     "data": {
      "text/plain": [
       "dict"
      ]
     },
     "execution_count": 53,
     "metadata": {},
     "output_type": "execute_result"
    }
   ],
   "source": [
    "type(d)"
   ]
  },
  {
   "cell_type": "code",
   "execution_count": 54,
   "id": "b9e4efb7-552b-49d7-b154-970dee1b40dc",
   "metadata": {},
   "outputs": [],
   "source": [
    "d1={'key': 'value'}"
   ]
  },
  {
   "cell_type": "code",
   "execution_count": 55,
   "id": "65c5c3e9-0e2e-4577-98b5-3dea3006b086",
   "metadata": {},
   "outputs": [
    {
     "data": {
      "text/plain": [
       "{'key': 'value'}"
      ]
     },
     "execution_count": 55,
     "metadata": {},
     "output_type": "execute_result"
    }
   ],
   "source": [
    "d1"
   ]
  },
  {
   "cell_type": "code",
   "execution_count": 56,
   "id": "35e9f01a-8996-4dbe-8ce2-10462687b701",
   "metadata": {},
   "outputs": [],
   "source": [
    "d2={'name': 'sourabh', 'email' : 'sourabhkhatri24@gmail.com' , 'number' : '7615014676' }"
   ]
  },
  {
   "cell_type": "code",
   "execution_count": 57,
   "id": "51b194e6-b56f-4757-b016-a2ba463d3816",
   "metadata": {},
   "outputs": [
    {
     "data": {
      "text/plain": [
       "{'name': 'sourabh',\n",
       " 'email': 'sourabhkhatri24@gmail.com',\n",
       " 'number': '7615014676'}"
      ]
     },
     "execution_count": 57,
     "metadata": {},
     "output_type": "execute_result"
    }
   ],
   "source": [
    "d2"
   ]
  },
  {
   "cell_type": "code",
   "execution_count": 58,
   "id": "a166893e-fc89-4041-a617-06430a559e30",
   "metadata": {},
   "outputs": [],
   "source": [
    "d3={652: 'sonu', 'fly' : '@ola', '_ha' : 'law', True: 685}"
   ]
  },
  {
   "cell_type": "code",
   "execution_count": 59,
   "id": "65739dfc-94e9-4372-a848-3c301eb1b311",
   "metadata": {},
   "outputs": [
    {
     "data": {
      "text/plain": [
       "{652: 'sonu', 'fly': '@ola', '_ha': 'law', True: 685}"
      ]
     },
     "execution_count": 59,
     "metadata": {},
     "output_type": "execute_result"
    }
   ],
   "source": [
    "d3"
   ]
  },
  {
   "cell_type": "code",
   "execution_count": 60,
   "id": "8053f0da-9cae-436e-b142-694d2de468c8",
   "metadata": {},
   "outputs": [
    {
     "data": {
      "text/plain": [
       "'@ola'"
      ]
     },
     "execution_count": 60,
     "metadata": {},
     "output_type": "execute_result"
    }
   ],
   "source": [
    "d3['fly']"
   ]
  },
  {
   "cell_type": "code",
   "execution_count": 61,
   "id": "fc3ba04d-f0d2-42dd-a072-2a1d05029b28",
   "metadata": {},
   "outputs": [
    {
     "data": {
      "text/plain": [
       "685"
      ]
     },
     "execution_count": 61,
     "metadata": {},
     "output_type": "execute_result"
    }
   ],
   "source": [
    "d3[True]"
   ]
  },
  {
   "cell_type": "code",
   "execution_count": 62,
   "id": "d8045e15-6217-4c12-af8f-c7c4a9923842",
   "metadata": {},
   "outputs": [
    {
     "data": {
      "text/plain": [
       "685"
      ]
     },
     "execution_count": 62,
     "metadata": {},
     "output_type": "execute_result"
    }
   ],
   "source": [
    "d3[1]"
   ]
  },
  {
   "cell_type": "code",
   "execution_count": 63,
   "id": "48109077-cb26-4cb1-94ef-cc15160ba294",
   "metadata": {},
   "outputs": [],
   "source": [
    "d4= {'name' : 'khatri', 'pie' : 'ravan'}"
   ]
  },
  {
   "cell_type": "code",
   "execution_count": 64,
   "id": "fa6c3de6-17e2-42f3-98a5-78200712fb30",
   "metadata": {},
   "outputs": [
    {
     "data": {
      "text/plain": [
       "{'name': 'khatri', 'pie': 'ravan'}"
      ]
     },
     "execution_count": 64,
     "metadata": {},
     "output_type": "execute_result"
    }
   ],
   "source": [
    "d4"
   ]
  },
  {
   "cell_type": "code",
   "execution_count": 65,
   "id": "dbf8bc16-f18e-45c1-b72c-f55fc5a6c844",
   "metadata": {},
   "outputs": [
    {
     "data": {
      "text/plain": [
       "'khatri'"
      ]
     },
     "execution_count": 65,
     "metadata": {},
     "output_type": "execute_result"
    }
   ],
   "source": [
    "d4['name']"
   ]
  },
  {
   "cell_type": "code",
   "execution_count": 66,
   "id": "2a1478d4-8def-4d68-b005-c8e5bc628ebd",
   "metadata": {},
   "outputs": [
    {
     "data": {
      "text/plain": [
       "'ravan'"
      ]
     },
     "execution_count": 66,
     "metadata": {},
     "output_type": "execute_result"
    }
   ],
   "source": [
    "d4['pie']"
   ]
  },
  {
   "cell_type": "code",
   "execution_count": 67,
   "id": "942e6e4b-7313-4fa3-827f-5ef7cdfc2397",
   "metadata": {},
   "outputs": [],
   "source": [
    "d5= {'company': 'pwskills', 'courses':['web dev','data science','java with dsa and system design']}"
   ]
  },
  {
   "cell_type": "code",
   "execution_count": 68,
   "id": "ff09a188-b9b0-4399-b0d5-a9d8de87a560",
   "metadata": {},
   "outputs": [
    {
     "data": {
      "text/plain": [
       "{'company': 'pwskills',\n",
       " 'courses': ['web dev', 'data science', 'java with dsa and system design']}"
      ]
     },
     "execution_count": 68,
     "metadata": {},
     "output_type": "execute_result"
    }
   ],
   "source": [
    "d5"
   ]
  },
  {
   "cell_type": "code",
   "execution_count": 69,
   "id": "e09345cf-51bd-4d91-8601-a2870bc1e7af",
   "metadata": {},
   "outputs": [
    {
     "data": {
      "text/plain": [
       "['web dev', 'data science', 'java with dsa and system design']"
      ]
     },
     "execution_count": 69,
     "metadata": {},
     "output_type": "execute_result"
    }
   ],
   "source": [
    "d5['courses']"
   ]
  },
  {
   "cell_type": "code",
   "execution_count": 70,
   "id": "fad50dce-5dfa-4c5f-82ae-126ad5b78564",
   "metadata": {},
   "outputs": [
    {
     "data": {
      "text/plain": [
       "'java with dsa and system design'"
      ]
     },
     "execution_count": 70,
     "metadata": {},
     "output_type": "execute_result"
    }
   ],
   "source": [
    "d5['courses'][2]"
   ]
  },
  {
   "cell_type": "code",
   "execution_count": 71,
   "id": "2fb26d97-14a5-4d0d-9927-9e9ba35807b9",
   "metadata": {},
   "outputs": [],
   "source": [
    "d6={'nuber': [9,65,35,64,3592462,929,], 'assignments': (1,2,3,4,5,6,7,8,9,6523), 'launch date': {28,12,24} , 'class_time':{'web dev': 8,'data science masters': 8.30,'java with dsa ': 11}, 'students': ['sourabh','abhishek','dheeraj']}"
   ]
  },
  {
   "cell_type": "code",
   "execution_count": 72,
   "id": "b7e9d50c-e945-421f-aa7a-888d52f6d38c",
   "metadata": {},
   "outputs": [
    {
     "data": {
      "text/plain": [
       "{'nuber': [9, 65, 35, 64, 3592462, 929],\n",
       " 'assignments': (1, 2, 3, 4, 5, 6, 7, 8, 9, 6523),\n",
       " 'launch date': {12, 24, 28},\n",
       " 'class_time': {'web dev': 8,\n",
       "  'data science masters': 8.3,\n",
       "  'java with dsa ': 11},\n",
       " 'students': ['sourabh', 'abhishek', 'dheeraj']}"
      ]
     },
     "execution_count": 72,
     "metadata": {},
     "output_type": "execute_result"
    }
   ],
   "source": [
    "d6"
   ]
  },
  {
   "cell_type": "code",
   "execution_count": 73,
   "id": "d8fbf8cf-bdb0-4624-a223-123994da13d6",
   "metadata": {},
   "outputs": [
    {
     "data": {
      "text/plain": [
       "8.3"
      ]
     },
     "execution_count": 73,
     "metadata": {},
     "output_type": "execute_result"
    }
   ],
   "source": [
    "d6['class_time']['data science masters']"
   ]
  },
  {
   "cell_type": "code",
   "execution_count": 74,
   "id": "044c24ea-20a5-4418-a9cd-05166cd93935",
   "metadata": {},
   "outputs": [],
   "source": [
    "d6['mentor']=['anurag','abhinandan']"
   ]
  },
  {
   "cell_type": "code",
   "execution_count": 75,
   "id": "544db06b-b6a5-4007-aae7-46a7ac980fcd",
   "metadata": {},
   "outputs": [
    {
     "data": {
      "text/plain": [
       "{'nuber': [9, 65, 35, 64, 3592462, 929],\n",
       " 'assignments': (1, 2, 3, 4, 5, 6, 7, 8, 9, 6523),\n",
       " 'launch date': {12, 24, 28},\n",
       " 'class_time': {'web dev': 8,\n",
       "  'data science masters': 8.3,\n",
       "  'java with dsa ': 11},\n",
       " 'students': ['sourabh', 'abhishek', 'dheeraj'],\n",
       " 'mentor': ['anurag', 'abhinandan']}"
      ]
     },
     "execution_count": 75,
     "metadata": {},
     "output_type": "execute_result"
    }
   ],
   "source": [
    "d6"
   ]
  },
  {
   "cell_type": "code",
   "execution_count": 82,
   "id": "7401f79a-b5c4-48a2-ba83-07f42fe9f395",
   "metadata": {},
   "outputs": [],
   "source": [
    "del d6 ['class_time']['web dev']"
   ]
  },
  {
   "cell_type": "code",
   "execution_count": 83,
   "id": "15a61063-9aee-4a69-9a9e-10b4c226be25",
   "metadata": {},
   "outputs": [
    {
     "data": {
      "text/plain": [
       "{'nuber': [9, 65, 35, 64, 3592462, 929],\n",
       " 'assignments': (1, 2, 3, 4, 5, 6, 7, 8, 9, 6523),\n",
       " 'launch date': {12, 24, 28},\n",
       " 'class_time': {'data science masters': 8.3, 'java with dsa ': 11},\n",
       " 'students': ['sourabh', 'abhishek', 'dheeraj'],\n",
       " 'mentor': ['anurag', 'abhinandan']}"
      ]
     },
     "execution_count": 83,
     "metadata": {},
     "output_type": "execute_result"
    }
   ],
   "source": [
    "d6"
   ]
  },
  {
   "cell_type": "code",
   "execution_count": 85,
   "id": "9a6a9ba1-f5e2-4815-aa3e-306ca8b6d8f1",
   "metadata": {},
   "outputs": [
    {
     "data": {
      "text/plain": [
       "['nuber', 'assignments', 'launch date', 'class_time', 'students', 'mentor']"
      ]
     },
     "execution_count": 85,
     "metadata": {},
     "output_type": "execute_result"
    }
   ],
   "source": [
    "list(d6.keys())"
   ]
  },
  {
   "cell_type": "code",
   "execution_count": 86,
   "id": "f376349d-f124-4edd-b93e-f253f3cef0b5",
   "metadata": {},
   "outputs": [
    {
     "data": {
      "text/plain": [
       "[[9, 65, 35, 64, 3592462, 929],\n",
       " (1, 2, 3, 4, 5, 6, 7, 8, 9, 6523),\n",
       " {12, 24, 28},\n",
       " {'data science masters': 8.3, 'java with dsa ': 11},\n",
       " ['sourabh', 'abhishek', 'dheeraj'],\n",
       " ['anurag', 'abhinandan']]"
      ]
     },
     "execution_count": 86,
     "metadata": {},
     "output_type": "execute_result"
    }
   ],
   "source": [
    "list(d6.values())"
   ]
  },
  {
   "cell_type": "code",
   "execution_count": 87,
   "id": "b50a86af-f801-4db6-9668-eb8007716e17",
   "metadata": {},
   "outputs": [
    {
     "data": {
      "text/plain": [
       "dict_items([('nuber', [9, 65, 35, 64, 3592462, 929]), ('assignments', (1, 2, 3, 4, 5, 6, 7, 8, 9, 6523)), ('launch date', {24, 28, 12}), ('class_time', {'data science masters': 8.3, 'java with dsa ': 11}), ('students', ['sourabh', 'abhishek', 'dheeraj']), ('mentor', ['anurag', 'abhinandan'])])"
      ]
     },
     "execution_count": 87,
     "metadata": {},
     "output_type": "execute_result"
    }
   ],
   "source": [
    "d6.items()"
   ]
  },
  {
   "cell_type": "code",
   "execution_count": 88,
   "id": "5607a107-9fc6-417c-b8c4-b1d2bea14aaa",
   "metadata": {},
   "outputs": [
    {
     "data": {
      "text/plain": [
       "['sourabh', 'abhishek', 'dheeraj']"
      ]
     },
     "execution_count": 88,
     "metadata": {},
     "output_type": "execute_result"
    }
   ],
   "source": [
    "d6.pop('students')"
   ]
  },
  {
   "cell_type": "code",
   "execution_count": 89,
   "id": "606dcee2-d812-409a-9c23-9bef9203b569",
   "metadata": {},
   "outputs": [
    {
     "data": {
      "text/plain": [
       "{'nuber': [9, 65, 35, 64, 3592462, 929],\n",
       " 'assignments': (1, 2, 3, 4, 5, 6, 7, 8, 9, 6523),\n",
       " 'launch date': {12, 24, 28},\n",
       " 'class_time': {'data science masters': 8.3, 'java with dsa ': 11},\n",
       " 'mentor': ['anurag', 'abhinandan']}"
      ]
     },
     "execution_count": 89,
     "metadata": {},
     "output_type": "execute_result"
    }
   ],
   "source": [
    "d6"
   ]
  },
  {
   "cell_type": "code",
   "execution_count": 90,
   "id": "c09cbd77-91de-495d-9fc0-66e17ef90234",
   "metadata": {},
   "outputs": [
    {
     "ename": "TypeError",
     "evalue": "pop expected at least 1 argument, got 0",
     "output_type": "error",
     "traceback": [
      "\u001b[0;31m---------------------------------------------------------------------------\u001b[0m",
      "\u001b[0;31mTypeError\u001b[0m                                 Traceback (most recent call last)",
      "Cell \u001b[0;32mIn[90], line 1\u001b[0m\n\u001b[0;32m----> 1\u001b[0m \u001b[43md6\u001b[49m\u001b[38;5;241;43m.\u001b[39;49m\u001b[43mpop\u001b[49m\u001b[43m(\u001b[49m\u001b[43m)\u001b[49m\n",
      "\u001b[0;31mTypeError\u001b[0m: pop expected at least 1 argument, got 0"
     ]
    }
   ],
   "source": [
    "d6.pop()"
   ]
  },
  {
   "cell_type": "code",
   "execution_count": null,
   "id": "ec40944f-4e28-4e93-9e43-028ef6bda8ae",
   "metadata": {},
   "outputs": [
    {
     "name": "stdin",
     "output_type": "stream",
     "text": [
      "enter your marks 500\n"
     ]
    },
    {
     "name": "stdout",
     "output_type": "stream",
     "text": [
      "you will be a part of A+ batch\n"
     ]
    }
   ],
   "source": [
    "marks = int(input('enter your marks'))\n",
    "if marks >= 80:\n",
    "    print('you will be a part of A+ batch')\n",
    "elif marks >= 60 and marks < 80 :\n",
    "    print('you will be a part of A1 batch')\n",
    "elif marks >= 40 and marks <60 :\n",
    "    print('you will be a part of A2 batch')\n",
    "else : \n",
    "    print('you will be a part of A3 batch')"
   ]
  },
  {
   "cell_type": "code",
   "execution_count": 100,
   "id": "503df0f5-a38a-40ed-9163-a59d6f2be605",
   "metadata": {},
   "outputs": [
    {
     "name": "stdin",
     "output_type": "stream",
     "text": [
      "enter your marks 45\n"
     ]
    }
   ],
   "source": [
    "marks = input('enter your marks')"
   ]
  },
  {
   "cell_type": "code",
   "execution_count": null,
   "id": "82988124-0fae-4669-b52f-d579a0b5fa34",
   "metadata": {},
   "outputs": [
    {
     "data": {
      "text/plain": [
       "500"
      ]
     },
     "execution_count": 31,
     "metadata": {},
     "output_type": "execute_result"
    }
   ],
   "source": [
    "marks"
   ]
  },
  {
   "cell_type": "code",
   "execution_count": null,
   "id": "9ac7b84c-cf0a-44df-bdde-e63317f6d001",
   "metadata": {},
   "outputs": [
    {
     "data": {
      "text/plain": [
       "str"
      ]
     },
     "execution_count": 32,
     "metadata": {},
     "output_type": "execute_result"
    }
   ],
   "source": [
    "type('marks')"
   ]
  },
  {
   "cell_type": "code",
   "execution_count": null,
   "id": "23cb88fb-b4b1-42d6-a8c6-6bd2d926207f",
   "metadata": {},
   "outputs": [
    {
     "name": "stdin",
     "output_type": "stream",
     "text": [
      "enter price 1200\n"
     ]
    },
    {
     "name": "stdout",
     "output_type": "stream",
     "text": [
      "i will not purchase\n"
     ]
    }
   ],
   "source": [
    "price = int(input('enter price'))\n",
    "if price >= 1000:\n",
    "    print('i will not purchase')\n",
    "else:\n",
    "    print('i will purchase')"
   ]
  },
  {
   "cell_type": "code",
   "execution_count": 42,
   "id": "60ea15ed-14d6-402e-afde-4c580b56eeb8",
   "metadata": {},
   "outputs": [
    {
     "name": "stdin",
     "output_type": "stream",
     "text": [
      "enter price 3540\n"
     ]
    },
    {
     "name": "stdout",
     "output_type": "stream",
     "text": [
      "i will not purchase\n",
      "affordable price but i wii not purchase\n"
     ]
    }
   ],
   "source": [
    "price = int(input('enter price'))\n",
    "if price> 1000 :\n",
    "    print('i will not purchase')\n",
    "    if price >=5000 :\n",
    "        print('This is to much')\n",
    "    elif price< 5000 and price >4000:\n",
    "        print('unexpected price')\n",
    "    elif price >=2000 and price <4000:\n",
    "        print('affordable price but i wii not purchase')\n",
    "    elif price >1000 and price <2000:\n",
    "        print ('expected price')\n",
    "else: # price <1000:\n",
    "            print('i will purchase')"
   ]
  },
  {
   "cell_type": "code",
   "execution_count": 43,
   "id": "e50ff8dc-cf90-4aff-b458-801df0eb200e",
   "metadata": {},
   "outputs": [],
   "source": [
    "##   FOR LOOP STARTED   ## \n",
    "l = [2,3,6,4,552,69,25,3,4,9,3,62,8,8,1]"
   ]
  },
  {
   "cell_type": "code",
   "execution_count": 48,
   "id": "ccbf8c5e-4a9c-4a51-be1b-f7074dd557d1",
   "metadata": {},
   "outputs": [
    {
     "name": "stdout",
     "output_type": "stream",
     "text": [
      "2\n",
      "3\n",
      "6\n",
      "4\n",
      "552\n",
      "69\n",
      "25\n",
      "3\n",
      "4\n",
      "9\n",
      "3\n",
      "62\n",
      "8\n",
      "8\n",
      "1\n"
     ]
    }
   ],
   "source": [
    "l1 = []\n",
    "for i in l:\n",
    "    print(i)\n",
    "    l1.append(i+1)"
   ]
  },
  {
   "cell_type": "code",
   "execution_count": 46,
   "id": "f3ec0ade-1fce-42a1-8c5e-0d0e95283584",
   "metadata": {},
   "outputs": [
    {
     "data": {
      "text/plain": [
       "[3, 4, 7, 5, 553, 70, 26, 4, 5, 10, 4, 63, 9, 9, 2]"
      ]
     },
     "execution_count": 46,
     "metadata": {},
     "output_type": "execute_result"
    }
   ],
   "source": [
    "l1"
   ]
  },
  {
   "cell_type": "code",
   "execution_count": 49,
   "id": "70b1a644-7d11-40a1-80f9-570cf3267221",
   "metadata": {},
   "outputs": [],
   "source": [
    "z = ['sourabh','himanshu','raghav','pratham']"
   ]
  },
  {
   "cell_type": "code",
   "execution_count": 50,
   "id": "182144c2-ea81-4128-b563-fd2519e43a85",
   "metadata": {},
   "outputs": [],
   "source": [
    "z1 = []\n",
    "for i in z:\n",
    "    #print(i)\n",
    "    z1.append(i.upper())"
   ]
  },
  {
   "cell_type": "code",
   "execution_count": 51,
   "id": "7e3b86c9-f107-47f0-92de-c4d63d58c1b3",
   "metadata": {},
   "outputs": [
    {
     "data": {
      "text/plain": [
       "['SOURABH', 'HIMANSHU', 'RAGHAV', 'PRATHAM']"
      ]
     },
     "execution_count": 51,
     "metadata": {},
     "output_type": "execute_result"
    }
   ],
   "source": [
    "z1"
   ]
  },
  {
   "cell_type": "code",
   "execution_count": 52,
   "id": "790de862-1100-4780-b1d4-28a92556d584",
   "metadata": {},
   "outputs": [],
   "source": [
    "a = [65,6,9,4,21,654,'ravi', 'vishal', 'pandey', 563.32,963.45,842]"
   ]
  },
  {
   "cell_type": "code",
   "execution_count": 54,
   "id": "e080a9a8-694d-49a3-aa2f-491f4eaac2b3",
   "metadata": {},
   "outputs": [],
   "source": [
    "a1_int = []\n",
    "a1_str = []\n",
    "for i in a:\n",
    "    if type(i) == int or type(i) == float :\n",
    "        a1_int.append(i)\n",
    "    else:\n",
    "        a1_str.append(i)"
   ]
  },
  {
   "cell_type": "code",
   "execution_count": 55,
   "id": "18975da0-b3c0-4672-84b0-122c5e4801d4",
   "metadata": {},
   "outputs": [
    {
     "data": {
      "text/plain": [
       "[65, 6, 9, 4, 21, 654, 563.32, 963.45, 842]"
      ]
     },
     "execution_count": 55,
     "metadata": {},
     "output_type": "execute_result"
    }
   ],
   "source": [
    "a1_int"
   ]
  },
  {
   "cell_type": "code",
   "execution_count": 56,
   "id": "b5a1d62e-2122-42c2-b4c0-efadd2073f3d",
   "metadata": {},
   "outputs": [
    {
     "data": {
      "text/plain": [
       "['ravi', 'vishal', 'pandey']"
      ]
     },
     "execution_count": 56,
     "metadata": {},
     "output_type": "execute_result"
    }
   ],
   "source": [
    "a1_str"
   ]
  },
  {
   "cell_type": "code",
   "execution_count": null,
   "id": "ba90df84-376b-4f1d-97dd-805ea21f8f6a",
   "metadata": {},
   "outputs": [],
   "source": []
  }
 ],
 "metadata": {
  "kernelspec": {
   "display_name": "Python 3 (ipykernel)",
   "language": "python",
   "name": "python3"
  },
  "language_info": {
   "codemirror_mode": {
    "name": "ipython",
    "version": 3
   },
   "file_extension": ".py",
   "mimetype": "text/x-python",
   "name": "python",
   "nbconvert_exporter": "python",
   "pygments_lexer": "ipython3",
   "version": "3.10.8"
  }
 },
 "nbformat": 4,
 "nbformat_minor": 5
}
